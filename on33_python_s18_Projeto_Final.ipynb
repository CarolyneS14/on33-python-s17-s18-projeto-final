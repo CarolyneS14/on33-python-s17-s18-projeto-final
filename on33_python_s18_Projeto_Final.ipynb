{
  "nbformat": 4,
  "nbformat_minor": 0,
  "metadata": {
    "colab": {
      "provenance": [],
      "include_colab_link": true
    },
    "kernelspec": {
      "name": "python3",
      "display_name": "Python 3"
    },
    "language_info": {
      "name": "python"
    }
  },
  "cells": [
    {
      "cell_type": "markdown",
      "metadata": {
        "id": "view-in-github",
        "colab_type": "text"
      },
      "source": [
        "<a href=\"https://colab.research.google.com/github/CarolyneS14/on33-python-s17-s18-projeto-final/blob/main/on33_python_s18_Projeto_Final.ipynb\" target=\"_parent\"><img src=\"https://colab.research.google.com/assets/colab-badge.svg\" alt=\"Open In Colab\"/></a>"
      ]
    },
    {
      "cell_type": "markdown",
      "source": [
        "##**<font color = red>Estatística Criminal do Feminicídio nas Unidades da Federação.**"
      ],
      "metadata": {
        "id": "jxZ1zsvEn0iT"
      }
    },
    {
      "cell_type": "markdown",
      "source": [
        "Esta análise tem como objetivo demonstrar a evolução do crime de feminicídio por estado nos anos de 2020 a 2024. O feminicídio é definido como o assassinato de uma mulher em razão de seu gênero, frequentemente associado à violência doméstica, discriminação ou desigualdade de gênero. Além de traçar o crescimento desse crime ao longo dos anos, a análise também busca compará-lo com o número de homicídios femininos ocorridos nos estados e verificar a porcentagem de feminicídios em relação ao total de homicídios femininos. Com isso, pretende-se evidenciar a gravidade e o impacto específico da violência de gênero no contexto dos crimes contra a vida."
      ],
      "metadata": {
        "id": "aFHNM_5sBFnz"
      }
    },
    {
      "cell_type": "markdown",
      "source": [
        "###Preparando o ambiente"
      ],
      "metadata": {
        "id": "A1GUeum-n6jv"
      }
    },
    {
      "cell_type": "code",
      "execution_count": 1,
      "metadata": {
        "id": "119668d8",
        "colab": {
          "base_uri": "https://localhost:8080/"
        },
        "collapsed": true,
        "outputId": "43f76ec5-0133-4035-dc63-31e98b0ad8bc"
      },
      "outputs": [
        {
          "output_type": "stream",
          "name": "stdout",
          "text": [
            "Mounted at /content/drive/\n"
          ]
        }
      ],
      "source": [
        "# Montando o Google Drive\n",
        "from google.colab import drive\n",
        "drive.mount('/content/drive/')\n"
      ]
    },
    {
      "cell_type": "code",
      "source": [
        "# direciona para o caminho desejado\n",
        "%cd /content/drive/MyDrive/REPROGRAMA/ON33-python-s18-Projeto-Final/"
      ],
      "metadata": {
        "colab": {
          "base_uri": "https://localhost:8080/"
        },
        "id": "ej-VPka80aXl",
        "outputId": "bc6d4bce-4df8-40e4-9673-724e8952171f"
      },
      "execution_count": 2,
      "outputs": [
        {
          "output_type": "stream",
          "name": "stdout",
          "text": [
            "/content/drive/MyDrive/REPROGRAMA/ON33-python-s18-Projeto-Final\n"
          ]
        }
      ]
    },
    {
      "cell_type": "code",
      "source": [
        "#Este módulo fornece uma maneira simples de usar funcionalidades que são dependentes de sistema operacional\n",
        "import os\n",
        "\n",
        "# os.getcwd() retorna o caminho absoluto do diretório de trabalho atual\n",
        "print(os.getcwd())\n"
      ],
      "metadata": {
        "colab": {
          "base_uri": "https://localhost:8080/"
        },
        "id": "yb2RpIJAzQCW",
        "outputId": "a1f2d783-dee7-4a0e-95b0-4cf59f9eeeb3"
      },
      "execution_count": 3,
      "outputs": [
        {
          "output_type": "stream",
          "name": "stdout",
          "text": [
            "/content/drive/MyDrive/REPROGRAMA/ON33-python-s18-Projeto-Final\n"
          ]
        }
      ]
    },
    {
      "cell_type": "code",
      "source": [
        "# Mostra o conteudo do local/pasta\n",
        "!ls"
      ],
      "metadata": {
        "colab": {
          "base_uri": "https://localhost:8080/"
        },
        "id": "7G80boUu2ep0",
        "outputId": "c9632c34-a002-42d6-98e3-6e08f9e88b42"
      },
      "execution_count": 4,
      "outputs": [
        {
          "output_type": "stream",
          "name": "stdout",
          "text": [
            "arquivos_auxiliar  database-Feminicidio.csv  on33-python-s18-Projeto-Final.ipynb\n",
            "database_auxiliar  homicidios_femininos.csv  S17S18-Projeto-Livre.pdf\n"
          ]
        }
      ]
    },
    {
      "cell_type": "markdown",
      "source": [],
      "metadata": {
        "id": "ZR8ak33MAZA7"
      }
    }
  ]
}